{
 "cells": [
  {
   "cell_type": "markdown",
   "metadata": {
    "collapsed": true
   },
   "source": [
    "# ニコニコAIスクール 第2回 機械学習入門 実践演習\n",
    "\n",
    "## 実践演習の進め方\n",
    "1. 講師が題材及びコードの説明をします\n",
    "2. \"WRITE ME!\"の部分のコードを書いてみましょう\n",
    "3. 書き始める前に必要な処理の概略を頭の中やノートに浮かべてからコードに落とし込みましょう\n",
    "\n",
    "## 課題1. k-NN法の実装\n",
    "1. まず簡単なアルゴリズムの説明をします\n",
    "2. 次に与えられたデータを眺めてみましょう(実際のデータ分析でも，分析の前にデータを眺めておくことは重要です)\n",
    "3. k-NN法を実装しましょう\n"
   ]
  },
  {
   "cell_type": "code",
   "execution_count": null,
   "metadata": {
    "collapsed": true
   },
   "outputs": [],
   "source": [
    "### おまじない\n",
    "%matplotlib inline\n",
    "### 必要なライブラリをインポート\n",
    "import numpy as np\n",
    "from sklearn import datasets, metrics\n",
    "from matplotlib import pyplot as plt\n",
    "from matplotlib import cm"
   ]
  },
  {
   "cell_type": "markdown",
   "metadata": {
    "collapsed": true
   },
   "source": [
    "### 1-1. データの観察"
   ]
  },
  {
   "cell_type": "markdown",
   "metadata": {},
   "source": [
    "今回使うデータセットはdigitsデータセットです。  \n",
    "Scikit-learn (第4回で正式に登場します) というライブラリが用意しているごく小規模のデータセットの1つです。  \n",
    "1797枚の小さい (8x8) 手書き数字画像 (0~9)が格納されています。  \n",
    "http://scikit-learn.org/stable/auto_examples/datasets/plot_digits_last_image.html"
   ]
  },
  {
   "cell_type": "code",
   "execution_count": null,
   "metadata": {
    "collapsed": true
   },
   "outputs": [],
   "source": [
    "# データ取得\n",
    "digits = datasets.load_digits()\n",
    "# 入力データ\n",
    "X = digits.data\n",
    "# ラベルデータ\n",
    "y = digits.target"
   ]
  },
  {
   "cell_type": "code",
   "execution_count": null,
   "metadata": {},
   "outputs": [],
   "source": [
    "#　データを色々観察してみましょう\n",
    "# WRITE ME!\n",
    "# Q1: 入力データの形状は？\n",
    "print(X.shape)\n",
    "# Q2: ラベルの形状は？\n",
    "print(y.shape)\n",
    "# Q3: ラベルの種類数は？ (np.uniqueを使う)\n",
    "print(len(np.unique(y)))"
   ]
  },
  {
   "cell_type": "markdown",
   "metadata": {},
   "source": [
    "### 画像を可視化してみましょう "
   ]
  },
  {
   "cell_type": "code",
   "execution_count": null,
   "metadata": {
    "collapsed": true
   },
   "outputs": [],
   "source": [
    "# dataに画像を，labelにラベルを渡す\n",
    "def visualize(data, label, nb_vis):\n",
    "  data, label = data[:nb_vis], label[:nb_vis]\n",
    "  if len(data) != len(label):\n",
    "    print(\"画像とラベルの数が合いません\")\n",
    "    return\n",
    "  \n",
    "  data, label = data.astype(np.int), label.astype(np.int)\n",
    "    \n",
    "  num_data = len(data)\n",
    "  size_window = np.ceil(np.sqrt(len(data)))\n",
    "    \n",
    "  samples = np.array(list(zip(data, label)))\n",
    "  for index, (d, l) in enumerate(samples):\n",
    "    # 画像データを格子状に配置する\n",
    "    plt.subplot(size_window, size_window, index + 1)\n",
    "    # 軸に関する表示はいらない\n",
    "    plt.axis('off')\n",
    "    # データを 8x8 のグレースケール画像として表示する\n",
    "    plt.imshow(d.reshape(8, 8), cmap=cm.gray_r, interpolation='nearest')\n",
    "    # 画像データのタイトルに正解ラベルを表示する\n",
    "    plt.title(l, color='red')\n",
    "        \n",
    "  plt.show()"
   ]
  },
  {
   "cell_type": "code",
   "execution_count": null,
   "metadata": {},
   "outputs": [],
   "source": [
    "visualize(X, y, 16)"
   ]
  },
  {
   "cell_type": "markdown",
   "metadata": {},
   "source": [
    "ちなみに、人が見るためにここでは8x8の2次元配列として表しましたが、今回のk-NN法ではこれを**1列の数字の列と考えて64次元のベクトル**として扱います。  \n",
    "画像としての構造を維持するタイプの学習器としては畳み込みニューラルネットワーク (CNN) などがあります (詳しくは第7回で)。"
   ]
  },
  {
   "cell_type": "markdown",
   "metadata": {},
   "source": [
    "## 1-2. データ分割\n",
    "講義で教わったように、機械学習では最低でも\n",
    "* 訓練データ\n",
    "* 検証データ (パラメータ調整用：今回は近傍数k)\n",
    "* テストデータ (最終評価用)\n",
    "\n",
    "の3つに分割する必要があります。  \n",
    "交差検証は大変なので、今回は簡単なhold-out validationでデータを分割しましょう。\n",
    "\n",
    "**Q: データ (X) をランダムにシャッフルし、適当に訓練データ・検証データ・テストデータに分割せよ。**  \n",
    "変数名は次を使用すること：\n",
    "* train_X, train_y\n",
    "* valid_X, valid_y\n",
    "* test_X, test_y\n",
    "\n",
    "### ヒント\n",
    "* シャッフルした先頭からtrain個、valid個、test個を持ってくれば良い。"
   ]
  },
  {
   "cell_type": "code",
   "execution_count": null,
   "metadata": {},
   "outputs": [],
   "source": [
    "# 準備\n",
    "X = digits.data.copy()\n",
    "y = digits.target.copy()\n",
    "np.random.seed(1701)\n",
    "\n",
    "# データのシャッフル\n",
    "# X, yを同じようにシャッフルするので、0〜データ数-1のインデックスをシャッフルする\n",
    "indexes = np.arange(0, len(X), 1)\n",
    "np.random.shuffle(indexes)\n",
    "X = X[indexes]\n",
    "y = y[indexes]\n",
    "\n",
    "# WRITE ME!\n",
    "\n",
    "\n",
    "# 形状確認\n",
    "print(train_X.shape, train_y.shape)\n",
    "print(valid_X.shape, valid_y.shape)\n",
    "print(test_X.shape, test_y.shape)"
   ]
  },
  {
   "cell_type": "markdown",
   "metadata": {},
   "source": [
    "ここからしばらくはテストデータを寝かしておきましょう。"
   ]
  },
  {
   "cell_type": "markdown",
   "metadata": {},
   "source": [
    "## 1-3. k-NN法の実装 "
   ]
  },
  {
   "cell_type": "markdown",
   "metadata": {},
   "source": [
    "ユークリッド距離を計算する関数を書いてみましょう：  "
   ]
  },
  {
   "cell_type": "code",
   "execution_count": null,
   "metadata": {
    "collapsed": true
   },
   "outputs": [],
   "source": [
    "# ユークリッド距離\n",
    "def dist(a, b):\n",
    "    # WRITE ME!\n",
    "    return None"
   ]
  },
  {
   "cell_type": "code",
   "execution_count": null,
   "metadata": {},
   "outputs": [],
   "source": [
    "# 検算\n",
    "a = np.array([0, 0, 1])\n",
    "b = np.array([0, 0, 1])\n",
    "dist(a, b) # => 0.0"
   ]
  },
  {
   "cell_type": "code",
   "execution_count": null,
   "metadata": {},
   "outputs": [],
   "source": [
    "c = np.array([1, 0])\n",
    "d = np.array([0, 1])\n",
    "dist(c, d) # => 1.4142135623730951"
   ]
  },
  {
   "cell_type": "markdown",
   "metadata": {},
   "source": [
    "次に，実際にk-NN法のロジックを書いていきます。\n",
    "まず、全体像を示すために骨組みだけを以下に示します。\n",
    "\n",
    "### 骨組み (これは書き換えないでください)"
   ]
  },
  {
   "cell_type": "code",
   "execution_count": null,
   "metadata": {},
   "outputs": [],
   "source": [
    "def classify_image(tr_X, tr_y, x, k):\n",
    "  \"\"\"1枚分の入力に対して\n",
    "  1. 訓練データ全体との距離をそれぞれ計算\n",
    "  2. 距離が短い順にソートされたインデックスを取得\n",
    "  3. 2. で得たインデックスのうちk個を選択して、対応するラベルを取得する\n",
    "  4. 3. で得たラベル一覧の中で最も多く出現したラベルを返す\n",
    "  x: 入力画像 (D, )\n",
    "  \"\"\"\n",
    "  pass\n",
    "\n",
    "def predict(train_X, train_y, X, y, k):\n",
    "  \"\"\"k-NN法を用いて評価データを分類\n",
    "  train_X: 訓練入力 (N, D)\n",
    "  train_y: 訓練ラベル (N, )\n",
    "  X: 評価入力 (N', D)\n",
    "  y: 評価ラベル (N',)\n",
    "  k: 近傍数\n",
    "  \"\"\"\n",
    "  # ここに予測結果を格納\n",
    "  pred_y = np.zeros(len(valid_X))\n",
    "  \n",
    "  # 各画像を分類\n",
    "  for idx, x in enumerate(X):\n",
    "    prediction = classify_image(train_X, train_y, x, k)\n",
    "    pred_y[idx] = prediction\n",
    "  \n",
    "  # 正解率を計算\n",
    "  score = None\n",
    "  return score\n",
    "\n",
    "# メイン処理\n",
    "# 色々なkを試して、検証セットでの正解率を計算する\n",
    "for k in []:\n",
    "  print(\"k={}: validation accuracy={}\".format(k, predict(train_X, train_y, valid_X, valid_y, k)))\n",
    "  \n",
    "best_k = 1  # ここに1番よかったkを入れる\n",
    "print(\"k={}: test accuracy={}\".format(best_k, predict(train_X, train_y, test_X, test_y, best_k)))"
   ]
  },
  {
   "cell_type": "markdown",
   "metadata": {},
   "source": [
    "### Step 1: classify_imageの実装とテスト\n",
    "千里の道も一歩から、大きなモデルでも小さい部分から始めれば恐れる必要はありません。  \n",
    "以下のコメントに従って1つずつ書いていきましょう。\n",
    "\n",
    "#### ヒント：\n",
    "* 4. ではlabels, counts = np.unique(data, return_counts=True)を使いましょう (値とその出現数が返ってきます)"
   ]
  },
  {
   "cell_type": "code",
   "execution_count": null,
   "metadata": {
    "collapsed": true
   },
   "outputs": [],
   "source": [
    "def classify_image(tr_X, tr_y, eval_x, k):\n",
    "  \"\"\"1枚分の入力に対して\n",
    "  1. 訓練データ全体との距離をそれぞれ計算\n",
    "  2. 距離が短い順にソートされたインデックスを取得\n",
    "  3. 2. で得たインデックスのうちk個を選択して、対応するラベルを取得する\n",
    "  4. 3. で得たラベル一覧の中で最も多く出現したラベルを返す\n",
    "  eval_x: 入力画像 (D, )\n",
    "  \"\"\"\n",
    "  # 1. \n",
    "  distances = np.zeros(len(tr_X))\n",
    "  for idx, x in enumerate(tr_X):\n",
    "    # WRITE ME! (距離計算)\n",
    "  \n",
    "  # 2.\n",
    "  # WRITE ME! (距離を小さい順に並び替えて，そのidxを取得→対応するラベルを出力)\n",
    "  sorted_idxs = None\n",
    "  \n",
    "  # 3.\n",
    "  # WRITE ME! \n",
    "  y_sorted = None\n",
    "  \n",
    "  # 4.\n",
    "  # WRITE ME!\n",
    "  labels, counts = None\n",
    "  return None"
   ]
  },
  {
   "cell_type": "markdown",
   "metadata": {},
   "source": [
    "### classify_image関数のテスト\n",
    "実装した関数が正しく動いているかどうかを判定するには、まず自分で計算できる程度のサンプルを考えるのが一番です。"
   ]
  },
  {
   "cell_type": "code",
   "execution_count": null,
   "metadata": {
    "collapsed": true
   },
   "outputs": [],
   "source": [
    "debug_X = np.array([[0, 0], [0, 1], [1, 0], [2, 2]])\n",
    "debug_y = np.array([0, 0, 1, 1])\n",
    "\n",
    "def test_classify_image(data, k):\n",
    "  return classify_image(debug_X, debug_y, np.array(data), k)"
   ]
  },
  {
   "cell_type": "markdown",
   "metadata": {},
   "source": [
    "次の文を実行してエラーが出なければ上手く動いています！"
   ]
  },
  {
   "cell_type": "code",
   "execution_count": null,
   "metadata": {
    "collapsed": true
   },
   "outputs": [],
   "source": [
    "assert test_classify_image([0.4, 0.4], 1) == 0\n",
    "assert test_classify_image([0.6, 0.4], 1) == 1\n",
    "assert test_classify_image([0.6, 0.0], 3) == 0\n",
    "assert test_classify_image([0.0, 0.6], 3) == 0"
   ]
  },
  {
   "cell_type": "markdown",
   "metadata": {},
   "source": [
    "### 予測関数本体 (そのまま)"
   ]
  },
  {
   "cell_type": "code",
   "execution_count": null,
   "metadata": {
    "collapsed": true
   },
   "outputs": [],
   "source": [
    "def predict(train_X, train_y, eval_X, eval_y, k):\n",
    "  \"\"\"k-NN法を用いて評価データを分類\n",
    "  train_X: 訓練入力 (N, D)\n",
    "  train_y: 訓練ラベル (N, )\n",
    "  eval_X: 評価入力 (N', D)\n",
    "  eval_y: 評価ラベル (N',)\n",
    "  k: 近傍数\n",
    "  \"\"\"\n",
    "  # ここに予測結果を格納\n",
    "  pred_y = np.zeros(len(eval_X))\n",
    "  \n",
    "  # 各画像を分類\n",
    "  for idx, eval_x in enumerate(eval_X):\n",
    "    prediction = classify_image(train_X, train_y, eval_x, k)\n",
    "    pred_y[idx] = prediction\n",
    "  \n",
    "  # 正解率を計算\n",
    "  score = metrics.accuracy_score(eval_y, pred_y)\n",
    "  return score, pred_y"
   ]
  },
  {
   "cell_type": "markdown",
   "metadata": {},
   "source": [
    "### パラメータチューニング\n",
    "色々なkを試してみましょう。"
   ]
  },
  {
   "cell_type": "code",
   "execution_count": null,
   "metadata": {
    "collapsed": true
   },
   "outputs": [],
   "source": [
    "# メイン処理\n",
    "for k in []:\n",
    "  score, pred_y = predict(train_X, train_y, valid_X, valid_y, k)\n",
    "  print(\"k={}: validation accuracy={}\".format(k, score))"
   ]
  },
  {
   "cell_type": "markdown",
   "metadata": {},
   "source": [
    "### 最終評価"
   ]
  },
  {
   "cell_type": "code",
   "execution_count": null,
   "metadata": {},
   "outputs": [],
   "source": [
    "best_k = 1  # ここに1番よかったkを入れる\n",
    "score, pred_y = predict(train_X, train_y, test_X, test_y, best_k)\n",
    "print(\"k={}: test accuracy={}\".format(best_k, score))"
   ]
  },
  {
   "cell_type": "markdown",
   "metadata": {},
   "source": [
    "## *応用編\n",
    "課題ができてしまった人はどうぞ。\n",
    "\n",
    "* 訓練データの個数とテスト正解率の関係は？\n",
    "* 混同行列を出力してみましょう、間違えたのはどの画像でしょう？ (http://scikit-learn.org/stable/modules/generated/sklearn.metrics.confusion_matrix.html#sklearn.metrics.confusion_matrix)\n",
    "* よく考えると、np.argsortで全てをソートする必要はなく、一番距離が小さいk個を選ぶだけで良い気がします。np.argpartition関数を使って余計な処理を削りましょう。\n",
    "* 行列計算を工夫すると、predict関数でforループを回している部分をnumpyの計算で一気にかけます。for文を使わずに書いてみましょう。"
   ]
  },
  {
   "cell_type": "markdown",
   "metadata": {},
   "source": [
    "### 予測結果の可視化"
   ]
  },
  {
   "cell_type": "code",
   "execution_count": null,
   "metadata": {},
   "outputs": [],
   "source": [
    "visualize(test_X, pred_y, 25)"
   ]
  },
  {
   "cell_type": "markdown",
   "metadata": {},
   "source": [
    "## *課題2. The Allen Mouse Brain Connectivity Atlasの解析\n",
    "data/natureフォルダ中の3つのCSVファイルは、それぞれ\n",
    "* nature13186-s3.csv: 蛍光強度の生データ\n",
    "* nature13186-s4-w-ipsi.csv: 同側の脳領域間のW値 (結合強度)\n",
    "* nature13186-s5.csv: 結合のある領域間のそれぞれの中心同士の距離\n",
    "\n",
    "各行・列のデータ型に合わせて各ファイルをパース(解析)し、\n",
    "* s3: 辞書型のリスト\n",
    "* s4, s5: 脳領域名のリストとW値または強度を浮動小数点として格納したnumpy配列\n",
    "\n",
    "として格納し、その中の要素にアクセスしてみよ。\n",
    "\n",
    "### ヒント：\n",
    "* 見出し行はif文で分岐して特別に処理する\n",
    "* for内包表記を用いて2列目以降を適切に変換・処理する\n",
    "\n",
    "### 擬似コード (pseudocode)\n",
    "nature13186-s3.csvの読み込みのみ、ヒントとして擬似コードを与えます：\n",
    "```\n",
    "nature13186-s3.csvをオープンする\n",
    "結果格納用リストを初期化\n",
    "各行について\n",
    "    1行目なら\n",
    "        文字列をカンマで分割してリストを作成\n",
    "        文字列のまま格納\n",
    "    2行目なら\n",
    "        文字列をカンマで分割してリストを作成\n",
    "        同様に文字列のまま格納\n",
    "        1行目と2行目の文字列リストを統合して、列名リストcolnamesを作成\n",
    "    3行目以降の各行について、\n",
    "        データ格納用のdictを作成\n",
    "        文字列をカンマで分割してリストを作成\n",
    "        各列の本来のデータ型に応じてintやfloatに変換\n",
    "        各列名、要素について\n",
    "            作ったdict[列名] <- 値\n",
    "        結果格納用リストに値を格納したdictを追加\n",
    "\n",
    "適当な行のデータを表示\n",
    "```"
   ]
  },
  {
   "cell_type": "code",
   "execution_count": null,
   "metadata": {
    "collapsed": true
   },
   "outputs": [],
   "source": [
    "# 必ず1度実行\n",
    "import os\n",
    "import numpy as np\n",
    "\n",
    "!wget  https://www.dropbox.com/s/8fqayqdai15en2f/data.zip\n",
    "!unzip -n data.zip"
   ]
  },
  {
   "cell_type": "markdown",
   "metadata": {},
   "source": [
    "### nature13186-s3.csv"
   ]
  },
  {
   "cell_type": "code",
   "execution_count": null,
   "metadata": {},
   "outputs": [],
   "source": [
    "# WRITE ME!\n",
    "parsed_data = []\n",
    "with open(\"data/nature/nature13186-s3.csv\") as f:\n",
    "  pass"
   ]
  },
  {
   "cell_type": "markdown",
   "metadata": {},
   "source": [
    "### nature13186-s4-w-ipsi.csv"
   ]
  },
  {
   "cell_type": "code",
   "execution_count": null,
   "metadata": {},
   "outputs": [],
   "source": [
    "# WRITE ME!"
   ]
  },
  {
   "cell_type": "markdown",
   "metadata": {},
   "source": [
    "### nature13186-s5.csv"
   ]
  },
  {
   "cell_type": "code",
   "execution_count": null,
   "metadata": {},
   "outputs": [],
   "source": [
    "# WRITE ME!"
   ]
  },
  {
   "cell_type": "code",
   "execution_count": null,
   "metadata": {
    "collapsed": true
   },
   "outputs": [],
   "source": []
  }
 ],
 "metadata": {
  "kernelspec": {
   "display_name": "Python 3",
   "language": "python",
   "name": "python3"
  },
  "language_info": {
   "codemirror_mode": {
    "name": "ipython",
    "version": 3
   },
   "file_extension": ".py",
   "mimetype": "text/x-python",
   "name": "python",
   "nbconvert_exporter": "python",
   "pygments_lexer": "ipython3",
   "version": "3.5.2"
  }
 },
 "nbformat": 4,
 "nbformat_minor": 2
}
