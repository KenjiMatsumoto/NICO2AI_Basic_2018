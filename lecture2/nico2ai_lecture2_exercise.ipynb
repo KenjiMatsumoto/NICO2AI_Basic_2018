{
 "cells": [
  {
   "cell_type": "markdown",
   "metadata": {
    "collapsed": true
   },
   "source": [
    "# ニコニコAIスクール 第2回 機械学習入門 基礎演習\n",
    "## 今日の目標\n",
    "* 機械学習の目的及び種類とその評価方法を理解する。\n",
    "* 第1回に引き続き、numpyで頻出する関数の使い方を実践的に理解する。\n",
    "* csvファイルを題材として、実データの読み書きができる。\n",
    "* k-NN法を理解し、それをnumpyを用いて実装できる。\n",
    "\n",
    "## 目次\n",
    "* 総和、平均、最大値、最小値(np.sum, np.mean, np.max, np.min)\n",
    "* L2ノルム (np.linalg.norm)\n",
    "* 数学関数 (np.sin, np.cos, np.tah, np.exp, np.log など)\n",
    "* 乱数生成 (np.random.random, np.random.normal)\n",
    "* ソート関連(np.sort, np.argsort)\n",
    "* ユークリッド距離・コサイン類似度\n",
    "* ファイル入出力"
   ]
  },
  {
   "cell_type": "markdown",
   "metadata": {},
   "source": [
    "# はじめに\n",
    "\n",
    "* エラーがでたら落ち着いてエラーを読んでみましょう(エラーを恐れる必要はありません)\n",
    "* エラーを読んでも理解できない場合は，エラー文をそのままググると解決法が見つかることが多いです\n",
    "* 詰まったな，と思ったら気軽に質問して下さい\n",
    "* numpyはドキュメントが充実しています．こんな計算出来ないだろうか，この関数の引数について知りたい，といった場合はドキュメントを見ると解決することが多いです\n",
    "(https://docs.scipy.org/doc/)\n",
    "\n",
    "## Colaboratoryことはじめ\n",
    "* コードの編集：各セルをクリックして、直接編集\n",
    "* コードの実行：セル左上の再生ボタンをクリックまたはShift+Enter\n",
    "* 実行停止：セル左上の停止ボタンをクリック\n",
    "* Notebook中のコードを全て実行：\"Runtime\"->\"Run all\"\n",
    "* 再起動：\"Runtime\"->\"Restart runtime\"\n",
    "* 出力のクリア：\"Edit\"->\"Clear all outputs\"\n",
    "\n",
    "詳しい操作はチュートリアルを参照してください。\n",
    "\n",
    "### Jupyter notebookとの比較\n",
    "|操作|Colaboratory|Jupyter Notebook|\n",
    "|:--|--:|--:|\n",
    "|コードの編集|セルをクリック|セルをクリック|\n",
    "|コードの実行|セル左上の再生ボタン|画面上の再生ボタン|\n",
    "|実行停止|セル左上の停止ボタン|画面上の停止ボタン|\n",
    "|全て実行|\"Runtime\"->\"Run all\"|\"Cell\"->\"Run all\"|\n",
    "|再起動|\"Runtime\"->\"Restart runtime\"|\"Kernel\"->\"Restart\"|\n",
    "|クリア|\"Edit\"->\"Clear all outputs\"|\"Kernel\"->\"Restart and clear output\"|\n",
    "\n",
    "## この演習をJupyter notebook上で実行したい方へ\n",
    "Pythonは通常インデントの幅を4とすることが多いのですが、Colaboratoryのデフォルトのインデント幅は例外的に2になっています。  \n",
    "そこで、本来デフォルトの4に設定されているJupyter notebook側の設定を変更する必要があります。  \n",
    "\n",
    "もしこの演習をJupyter notebook上で実行したい場合は、次の指示に従ってください:\n",
    "1. \"F12\"キーを押して、出てきた画面内の「コンソール (Console)」タブをクリック\n",
    "2. 次のコードをコンソールに入力、実行：\n",
    "\n",
    "```\n",
    "var cell = Jupyter.notebook.get_selected_cell();\n",
    "var config = cell.config;\n",
    "var patch = {\n",
    "      CodeCell:{\n",
    "        cm_config:{indentUnit:2}\n",
    "      }\n",
    "    }\n",
    "config.update(patch)\n",
    "```\n",
    "\n",
    "もし設定を戻したい場合は、同様に次のコードを実行すると戻ります：\n",
    "```\n",
    "var cell = Jupyter.notebook.get_selected_cell();\n",
    "var config = cell.config;\n",
    "var patch = {\n",
    "      CodeCell:{\n",
    "        cm_config:{indentUnit: null} // only change here.\n",
    "      }\n",
    "    }\n",
    "config.update(patch)\n",
    "```\n",
    "\n",
    "参考：http://jupyter-notebook.readthedocs.io/en/stable/frontend_config.html\n",
    "\n",
    "ただし、一部の画像の表示が乱れる場合があります。"
   ]
  },
  {
   "cell_type": "markdown",
   "metadata": {},
   "source": [
    "# 1. Numpy入門 (2)"
   ]
  },
  {
   "cell_type": "code",
   "execution_count": null,
   "metadata": {
    "collapsed": true
   },
   "outputs": [],
   "source": [
    "import numpy as np  # numpyを'np'という名前でインポートする"
   ]
  },
  {
   "cell_type": "markdown",
   "metadata": {},
   "source": [
    "## 配列の総和、平均、最大値、最小値 (np.sum, np.mean, np.max, np.min) \n",
    "* ベクトルの最大値を得る\n",
    "* データの平均を計算する\n",
    "* 行列の各行の最小値を得る\n",
    "\n",
    "などの操作は非常に頻繁に現れます。Numpyでは、配列の形状にかかわらず上記の操作を1行で書くことができます。"
   ]
  },
  {
   "cell_type": "code",
   "execution_count": null,
   "metadata": {},
   "outputs": [],
   "source": [
    "# 長さ5のベクトル\n",
    "x = np.array([0.1, 0.2, 0.3, 0.4, 0.5])\n",
    "x.shape"
   ]
  },
  {
   "cell_type": "code",
   "execution_count": null,
   "metadata": {},
   "outputs": [],
   "source": [
    "# np.sum: 配列の総和\n",
    "np.sum(x)"
   ]
  },
  {
   "cell_type": "code",
   "execution_count": null,
   "metadata": {},
   "outputs": [],
   "source": [
    "# np.mean: 配列の平均\n",
    "np.mean(x)"
   ]
  },
  {
   "cell_type": "code",
   "execution_count": null,
   "metadata": {},
   "outputs": [],
   "source": [
    "# np.max: 配列の最大値\n",
    "np.max(x)"
   ]
  },
  {
   "cell_type": "code",
   "execution_count": null,
   "metadata": {},
   "outputs": [],
   "source": [
    "# np.min: 配列の最小値\n",
    "np.min(x)"
   ]
  },
  {
   "cell_type": "code",
   "execution_count": null,
   "metadata": {},
   "outputs": [],
   "source": [
    "# 同じ操作を多次元配列で行ってみる\n",
    "X = np.random.random((5, 10))  # (5, 10)の乱数行列を生成 (後述)\n",
    "X.shape"
   ]
  },
  {
   "cell_type": "code",
   "execution_count": null,
   "metadata": {},
   "outputs": [],
   "source": [
    "print(np.sum(X))\n",
    "print(np.mean(X))\n",
    "print(np.max(X))\n",
    "print(np.min(X))"
   ]
  },
  {
   "cell_type": "markdown",
   "metadata": {},
   "source": [
    "### axis (軸) の指定\n",
    "上記の関数は、デフォルトでは配列全体にたいして1つの値しか返しません。  \n",
    "「各行 (0軸目)」「各列 (1軸目)」などの特定の軸上で平均値等を計算したい場合には**axisキーワード**を指定します。  \n",
    "軸のインデックスは0から始まります。"
   ]
  },
  {
   "cell_type": "code",
   "execution_count": null,
   "metadata": {},
   "outputs": [],
   "source": [
    "print(np.sum(X, axis=0))  # 各行 (0軸目) の総和を求める (各要素は1行=5つの総和)\n",
    "print(np.sum(X, axis=0).shape)  # 結果は1次元配列になる"
   ]
  },
  {
   "cell_type": "code",
   "execution_count": null,
   "metadata": {},
   "outputs": [],
   "source": [
    "print(np.sum(X, axis=1))  # 各列 (1軸目) の総和を求める (各要素は1列=10個の総和)\n",
    "print(np.sum(X, axis=1).shape)  # 結果は1次元配列になる"
   ]
  },
  {
   "cell_type": "markdown",
   "metadata": {},
   "source": [
    "## 最大/最小値のインデックスを取る (np.argmax, np.argmin)\n",
    "さて、これで配列中の最大/最小値を取ることが出きました。  \n",
    "では、**最大・最小値をとる要素が配列中のどこにあるのか**がほしい場合はどうすればいいでしょう？  \n",
    "np.argmaxとnp.argminを使いましょう！"
   ]
  },
  {
   "cell_type": "code",
   "execution_count": null,
   "metadata": {},
   "outputs": [],
   "source": [
    "# 長さ5のベクトル\n",
    "x = np.array([0.1, 0.2, 0.3, 0.4, 0.5])\n",
    "x.shape"
   ]
  },
  {
   "cell_type": "code",
   "execution_count": null,
   "metadata": {},
   "outputs": [],
   "source": [
    "np.argmax(x)  # -> 4 (5つ目の要素)"
   ]
  },
  {
   "cell_type": "code",
   "execution_count": null,
   "metadata": {},
   "outputs": [],
   "source": [
    "np.argmin(x)  # -> 0 (1つ目の要素)"
   ]
  },
  {
   "cell_type": "markdown",
   "metadata": {},
   "source": [
    "## 書いてみよう：配列の操作\n",
    "1. [1, 2, ..., 10]なるベクトルをnp.arange関数で作成し、その総和と平均を計算せよ。\n",
    "2. 多値分類問題では、「サンプルiがクラスcに所属する確率」を(N, C)の行列に格納し、各サンプルにおいて最も大きい確率を取るインデックスをとる処理が行われる。\n",
    "    <img src=\"http://artilects.net/nico2ai/exercise_fig1.png\" width=50%>\n",
    "y = XW + bを計算し、np.argmax関数を使って最大値を得るインデックスを計算せよ。"
   ]
  },
  {
   "cell_type": "code",
   "execution_count": null,
   "metadata": {},
   "outputs": [],
   "source": [
    "# Q1\n",
    "# WRITE ME!"
   ]
  },
  {
   "cell_type": "code",
   "execution_count": null,
   "metadata": {},
   "outputs": [],
   "source": [
    "# Q2\n",
    "N = 10\n",
    "D = 2\n",
    "C = 5\n",
    "X = np.random.random((N, D))\n",
    "W = np.random.random((D, C))\n",
    "b = np.random.random((1, C))  # ブロードキャスティングができるように0次元目に1を詰める\n",
    "\n",
    "# WRITE ME!\n",
    "# まずXW + bを計算 (行列積を使おう)"
   ]
  },
  {
   "cell_type": "markdown",
   "metadata": {},
   "source": [
    "## データをどう格納するか？ (講義資料末尾参照)\n",
    "実際にnumpyでアルゴリズムを書く時、「データ」はどういう形で入っているのでしょうか？  \n",
    "Pythonについては、基本的に **(サンプル数、次元数)** の形で格納することをおすすめします。  \n",
    "どちらでも全く問題なく書けるのですが、\n",
    "\n",
    "* 「i番目のサンプル」にアクセスするときに data[i] と書ける (逆の場合data[:, i])\n",
    "* scikit-learnなどの主要ライブラリが上記に従っている\n",
    "* Numpyがデフォルトでrow-major orderを採用している (下記参照)\n",
    "\n",
    "などの理由によりサンプル数を0次元目とするのが一般的です。"
   ]
  },
  {
   "cell_type": "markdown",
   "metadata": {},
   "source": [
    "### *行アクセスと列アクセスの速度の違い\n",
    "numpyがどのように配列をメモリ上に配置しているかは、次の簡単な実験からも類推することができます：  \n",
    "(参考： http://kaisk.hatenadiary.com/entry/2015/02/19/224531)"
   ]
  },
  {
   "cell_type": "code",
   "execution_count": null,
   "metadata": {},
   "outputs": [],
   "source": [
    "a = np.random.rand(2000, 2000)\n",
    "%timeit a[0,:].sum()  # 行へのアクセスは速い\n",
    "%timeit a[:,0].sum()  # 列へのアクセスは遅い"
   ]
  },
  {
   "cell_type": "markdown",
   "metadata": {},
   "source": [
    "## ノルム (np.linalg.norm)\n",
    "np.linalg.normは、ベクトルを引数としてとった場合、L2ノルム (ざっくり言うとユークリッド距離)\n",
    "\\begin{equation}\n",
    "\\|x\\|_2 = \\sqrt{x_1^2 + x_2^2 + \\dots + x_n^2}\n",
    "\\end{equation}\n",
    "\n",
    "行列を引数としてとった場合、フロベニウスノルム\n",
    "\\begin{equation}\n",
    "\\|A\\|_F = \\sqrt{\\sum_{i=1}^m \\sum_{j=1}^n \\left| a_{ij}^2 \\right|}\n",
    "\\end{equation}\n",
    "\n",
    "を返します。axisを指定することで、行列から各行または列のL2ノルムを求めるなど、頻繁に使われます。"
   ]
  },
  {
   "cell_type": "code",
   "execution_count": null,
   "metadata": {},
   "outputs": [],
   "source": [
    "e = [-4, -3, -2, -1,  0,  1,  2,  3, 4]\n",
    "np.linalg.norm(e)"
   ]
  },
  {
   "cell_type": "code",
   "execution_count": null,
   "metadata": {},
   "outputs": [],
   "source": [
    "f = [1, 1]\n",
    "np.linalg.norm(f)"
   ]
  },
  {
   "cell_type": "code",
   "execution_count": null,
   "metadata": {},
   "outputs": [],
   "source": [
    "g = np.array([[1, 2], \n",
    "              [3, 4]])\n",
    "np.linalg.norm(g, axis=1)  # axis=1 (各行) に関してL2ノルムを計算"
   ]
  },
  {
   "cell_type": "markdown",
   "metadata": {},
   "source": [
    "## 数学関数 (np.sin, np.cos, np.tah, np.exp, np.log など)\n",
    "NumpyにはPythonの標準とは別に専用の数学関数が用意されています。  \n",
    "また、これらの関数は**ベクトルや行列を引数として**、要素ごとに演算を適用できます。"
   ]
  },
  {
   "cell_type": "code",
   "execution_count": null,
   "metadata": {},
   "outputs": [],
   "source": [
    "np.sin(np.pi / 2.0)  # π/2=90度"
   ]
  },
  {
   "cell_type": "code",
   "execution_count": null,
   "metadata": {},
   "outputs": [],
   "source": [
    "np.log([1, np.e, np.e ** 2, np.e ** 3])  # **演算子は累乗"
   ]
  },
  {
   "cell_type": "code",
   "execution_count": null,
   "metadata": {},
   "outputs": [],
   "source": [
    "np.log(0)  # log0は定義できないのでnumpyではマイナス無限大が返る"
   ]
  },
  {
   "cell_type": "markdown",
   "metadata": {},
   "source": [
    "## 乱数生成"
   ]
  },
  {
   "cell_type": "markdown",
   "metadata": {},
   "source": [
    "続いて乱数の作り方を覚えましょう。  \n",
    "乱数は次のような場面で使います：\n",
    "* 学習器のパラメータ (重み行列) をランダムに初期化する\n",
    "* 複数のサンプルをランダムにシャッフルする\n",
    "\n",
    "### np.random.seed(seed)\n",
    "乱数の「種」を初期化します。「種」には自由に値を設定できます。  \n",
    "通常乱数は環境によって毎回結果が変わってしまいますが、「種」が一緒であれば異なる環境でも同じ数字を再現できます。  \n",
    "この機能は (この講義のように) 再現性が重要な場合に非常に重要です。\n",
    "\n",
    "### np.random.random(size)\n",
    "0以上1未満の一様分布を生成します (shapeには形状のタプルが入ります)。\n",
    "\n",
    "### np.random.random(loc=0.0, scale=1.0, size)\n",
    "平均がloc、分散がscaleの正規分布 (ガウス分布) N(loc, scale) を生成します。\n",
    "\n",
    "わからなくなったらドキュメントを参照しましょう：\n",
    "* https://docs.scipy.org/doc/numpy-1.13.0/reference/generated/numpy.random.random.html#numpy.random.random\n",
    "* https://docs.scipy.org/doc/numpy-1.13.0/reference/generated/numpy.random.normal.html"
   ]
  },
  {
   "cell_type": "code",
   "execution_count": null,
   "metadata": {},
   "outputs": [],
   "source": [
    "# Ctrl+Enterで同じセルを何回か実行してみよう (種を指定しない)\n",
    "np.random.random()"
   ]
  },
  {
   "cell_type": "code",
   "execution_count": null,
   "metadata": {},
   "outputs": [],
   "source": [
    "# Ctrl+Enterで同じセルを何回か実行してみよう (種を指定する)\n",
    "np.random.seed(1701)\n",
    "np.random.random()"
   ]
  },
  {
   "cell_type": "code",
   "execution_count": null,
   "metadata": {},
   "outputs": [],
   "source": [
    "# 複数一気に作る\n",
    "np.random.random(5)"
   ]
  },
  {
   "cell_type": "code",
   "execution_count": null,
   "metadata": {},
   "outputs": [],
   "source": [
    "# 正規分布\n",
    "np.random.normal(size=5)  # random.randomと微妙に呼び出しが違うので注意"
   ]
  },
  {
   "cell_type": "markdown",
   "metadata": {},
   "source": [
    "試しに1000個程度値を生成してプロットしてみると一目瞭然です："
   ]
  },
  {
   "cell_type": "code",
   "execution_count": null,
   "metadata": {},
   "outputs": [],
   "source": [
    "import matplotlib.pyplot as plt\n",
    "plt.figure()\n",
    "plt.hist(np.random.random(1000), bins=20)\n",
    "plt.title(\"Uniform distribution U[0, 1]\")\n",
    "plt.show()"
   ]
  },
  {
   "cell_type": "code",
   "execution_count": null,
   "metadata": {},
   "outputs": [],
   "source": [
    "plt.figure()\n",
    "plt.hist(np.random.normal(0, 1, 1000), bins=20)\n",
    "plt.title(\"Normal (Gaussian) distribution N(0, 1)\")\n",
    "plt.show()"
   ]
  },
  {
   "cell_type": "markdown",
   "metadata": {},
   "source": [
    "### 配列をシャッフル\n",
    "配列のシャッフルにはnp.random.shuffleを、配列からランダムに選び出すにはnp.random.choiceを使います。  "
   ]
  },
  {
   "cell_type": "code",
   "execution_count": null,
   "metadata": {},
   "outputs": [],
   "source": [
    "x = np.arange(10)\n",
    "print(x)\n",
    "np.random.shuffle(x)  # ランダムにシャッフル\n",
    "print(x)"
   ]
  },
  {
   "cell_type": "code",
   "execution_count": null,
   "metadata": {},
   "outputs": [],
   "source": [
    "x = np.arange(12)\n",
    "print(np.random.choice(x, 10))  # ランダムに10個選ぶ (重複を許す)\n",
    "print(np.random.choice(x, 10, replace=False))  # ランダムに10個選ぶ (重複を許さない)"
   ]
  },
  {
   "cell_type": "markdown",
   "metadata": {},
   "source": [
    "## 書いてみよう：乱数生成\n",
    "1. -1から1までの一様な乱数を生成せよ\n",
    "2. 深層学習では、重み行列を入力側の層のユニット数nに対して、\n",
    "$$ N(0, \\frac{1}{\\sqrt{n}}) $$\n",
    "\n",
    "なる正規分布に従う乱数で初期化するテクニックが知られている (Xavierの初期化)。  \n",
    "入力層のユニット数が100、出力層のユニット数が50である重み行列WをXavierの初期化に従って作成せよ。\n",
    "\n",
    "### ヒント\n",
    "* 重み行列の形状は(100, 50)\n",
    "* 平方根はnp.sqrt\n",
    "* np.random.normalでscaleを指定するかN(0, 1) * scaleとしてやれば良い (正規分布の性質)"
   ]
  },
  {
   "cell_type": "code",
   "execution_count": null,
   "metadata": {},
   "outputs": [],
   "source": [
    "# Q1\n",
    "# WRITE ME!"
   ]
  },
  {
   "cell_type": "code",
   "execution_count": null,
   "metadata": {
    "collapsed": true
   },
   "outputs": [],
   "source": [
    "# Q2\n",
    "# WRITE ME!\n",
    "W = np.zeros((100, 50))  # これを書き換える"
   ]
  },
  {
   "cell_type": "code",
   "execution_count": null,
   "metadata": {},
   "outputs": [],
   "source": [
    "# プロットしてみよう\n",
    "plt.figure()\n",
    "plt.hist(W.flatten(), bins=20)\n",
    "plt.title(\"Xavier initialization (red line is 2sigma)\")\n",
    "plt.axvline(x=0.2, c='r')\n",
    "plt.axvline(x=-0.2, c='r')\n",
    "plt.show()"
   ]
  },
  {
   "cell_type": "markdown",
   "metadata": {},
   "source": [
    "### *整数の乱数 np.random.randint(low, high, size)\n",
    "もちろん整数も作れます。  \n",
    "low <= x < highなる整数を作ります。  \n",
    "https://docs.scipy.org/doc/numpy-1.13.0/reference/generated/numpy.random.randint.html"
   ]
  },
  {
   "cell_type": "code",
   "execution_count": null,
   "metadata": {},
   "outputs": [],
   "source": [
    "np.random.randint(10, size=(100,))  # 0から9"
   ]
  },
  {
   "cell_type": "code",
   "execution_count": null,
   "metadata": {},
   "outputs": [],
   "source": [
    "np.random.randint(-10, 11, size=(100,))  # -10から10"
   ]
  },
  {
   "cell_type": "markdown",
   "metadata": {},
   "source": [
    "## ソート関連(np.sort, np.argsort)\n",
    "k-NNアルゴリズムでは**距離が小さいベクトルをk本取得する**操作を使います。  \n",
    "高速なソートアルゴリズムもnumpyは備えています。"
   ]
  },
  {
   "cell_type": "code",
   "execution_count": null,
   "metadata": {},
   "outputs": [],
   "source": [
    "f = np.array([5, 2, 3, 1, 4])\n",
    "np.sort(f)"
   ]
  },
  {
   "cell_type": "code",
   "execution_count": null,
   "metadata": {},
   "outputs": [],
   "source": [
    "np.argsort(f)"
   ]
  },
  {
   "cell_type": "code",
   "execution_count": null,
   "metadata": {},
   "outputs": [],
   "source": [
    "f[np.argsort(f)]  # 確かにインデックスが取れている (advanced indexingを使用)"
   ]
  },
  {
   "cell_type": "markdown",
   "metadata": {},
   "source": [
    "大きい順で欲しい場合には、スライシング [start:end:step]を使いましょう："
   ]
  },
  {
   "cell_type": "code",
   "execution_count": null,
   "metadata": {},
   "outputs": [],
   "source": [
    "np.sort(f)[::-1]  # 逆順で取るときにはstepを-1にすれば良い"
   ]
  },
  {
   "cell_type": "markdown",
   "metadata": {},
   "source": [
    "## 書いてみよう：ソート\n",
    "Q: np.sortを使用して，fの最大の数，上から2番目の数，最小の数を出力せよ。"
   ]
  },
  {
   "cell_type": "code",
   "execution_count": null,
   "metadata": {},
   "outputs": [],
   "source": [
    "# WRITE ME!"
   ]
  },
  {
   "cell_type": "markdown",
   "metadata": {},
   "source": [
    "## 2. 機械学習の距離尺度 (ユークリッド距離・マンハッタン距離・コサイン類似度)\n",
    "### ユークリッド距離\n",
    "講義で述べたとおり、\n",
    "今日扱うk-NN法では、ユークリッド距離 (L2ノルム)\n",
    "$$ \\|p - q\\|_2 = \\sqrt{\\sum_{i=1}^D (p_i - q_i)^2}$$\n",
    "を使います。ユークリッド距離はnp.linalg.normを用いて書くことができます。"
   ]
  },
  {
   "cell_type": "code",
   "execution_count": null,
   "metadata": {},
   "outputs": [],
   "source": [
    "x = np.array([1, 0])\n",
    "y = np.array([0, -1])\n",
    "\n",
    "def euclidian_distance(p, q):\n",
    "  return np.linalg.norm(p - q)\n",
    "  \n",
    "euclidian_distance(x, y)"
   ]
  },
  {
   "cell_type": "markdown",
   "metadata": {},
   "source": [
    "### マンハッタン距離\n",
    "ユークリッド距離に続いてよく使われる距離尺度としては、マンハッタン距離 (L1ノルム)\n",
    "$$ \\|p - q\\|_1 = \\sum_{i=1}^D |p_i - q_i|$$\n",
    "があります。これも同様に書くことができます。"
   ]
  },
  {
   "cell_type": "code",
   "execution_count": null,
   "metadata": {},
   "outputs": [],
   "source": [
    "def manhattan_distance(p, q):\n",
    "  return np.linalg.norm(p - q, ord=1)\n",
    "  \n",
    "manhattan_distance(x, y)"
   ]
  },
  {
   "cell_type": "markdown",
   "metadata": {},
   "source": [
    "### コサイン類似度 (コサイン距離)\n",
    "コサイン類似度は、次のように定義される尺度で、-1から1までの値が得られます。  \n",
    "コサイン類似度が1の時2本のベクトルは最も近く、-1の時は最も遠いと判断されます。  \n",
    "コサイン類似度は距離の公理を満たしませんが、自然言語処理などの分野でしばしば使用されます。\n",
    "\n",
    "$$ cosine(p, q) = \\frac{p \\cdot q}{\\| p \\| \\cdot \\|q \\|} $$\n",
    "\n",
    "## 書いてみよう：コサイン類似度\n",
    "Q: 上記のコサイン類似度を実装せよ。"
   ]
  },
  {
   "cell_type": "code",
   "execution_count": null,
   "metadata": {},
   "outputs": [],
   "source": [
    "def cosine_similarity(p, q):\n",
    "  # WRITE ME!\n",
    "  \n",
    "print(cosine_similarity(x, y))\n",
    "print(cosine_similarity(x, x))\n",
    "print(cosine_similarity(x, -x))"
   ]
  },
  {
   "cell_type": "markdown",
   "metadata": {
    "collapsed": true
   },
   "source": [
    "# 3. ファイルの入出力\n",
    "本節では、実データに機械学習を適用する際に不可欠な、データの読み書きに焦点をあて、csvファイルの読み書きを題材にその基礎を解説・実践します。  \n",
    "実際には、以下に示すモジュールを用いればサンプルより簡単にデータを読み込み・処理できますが、時間の関係上今回は飛ばします。\n",
    "* csvモジュール\n",
    "* jsonモジュール\n",
    "* pandas (データ解析支援ライブラリ)\n",
    "\n",
    "とはいえ、pandasは大規模データを取り扱うための各種機能を搭載しているため、データがある程度複雑なら、**pandasを利用したほうが良い**です。\n",
    "\n",
    "## osモジュール\n",
    "通常、処理コードとデータは別々のディレクトリに保存されており、適切なファイルパスを指定し、それを読み込む必要があります。こうした\n",
    "* ディレクトリ間の移動\n",
    "* ディレクトリの作成\n",
    "* パスの作成・加工\n",
    "などを担うのがosモジュールです。今回は、\n",
    "1. テキストファイルの読み込み\n",
    "2. CSVファイル (irisデータセット) の読み書き\n",
    "3. The Allen Mouse Brain Connectivity Atlasの読み込み\n",
    "の3つの題材を通じて、osモジュールの主要関数の使い方を学習します。\n",
    "\n",
    "### 今回のディレクトリ構成\n",
    "```\n",
    "+---nico2ai_lecture2_exercise.ipynb (このファイル)\n",
    "+---nico2ai_lecture2_practice.ipynb\n",
    "+---data/\n",
    "    +---sample.txt\n",
    "    +---iris.csv\n",
    "    +---nature/\n",
    "        +---nature13186-s3.csv\n",
    "        +---nature13186-s4-w-ipsi.csv\n",
    "        +---nature13186-s5.csv\n",
    "```\n",
    "\n",
    "### 事前準備 (一度のみ実行)"
   ]
  },
  {
   "cell_type": "code",
   "execution_count": null,
   "metadata": {},
   "outputs": [],
   "source": [
    "!wget  https://www.dropbox.com/s/8fqayqdai15en2f/data.zip\n",
    "!unzip -n data.zip"
   ]
  },
  {
   "cell_type": "markdown",
   "metadata": {},
   "source": [
    "### ファイルの読み込み\n",
    "ファイルの読み込みには、**open関数**を用いまず。第2引数のモードには\n",
    "* \"r\": 読み込み専用\n",
    "* \"w\": 書き込み専用 (ファイルが存在しない場合、新規作成)\n",
    "* \"r+\": 読み書き療養\n",
    "* \"a\": 追記用 (すでに同名のファイルが存在する場合、その末尾から追記)\n",
    "の4種類がありますが、まずは読み込み専用の\"r\"を使いましょう。"
   ]
  },
  {
   "cell_type": "code",
   "execution_count": null,
   "metadata": {},
   "outputs": [],
   "source": [
    "f = open(\"data/sample.txt\", \"r\")  # open関数が成功すると、ファイルオブジェクトが返る\n",
    "for line in f:  \n",
    "  print(line.strip(\"\\n\"))  # 余計な改行を除去\n",
    "    \n",
    "# 古い書き方：今は直接for文で行ごとに読み込める\n",
    "#line = f.readline()\n",
    "#while line:\n",
    "#    print(line)\n",
    "#    line = f.readline()\n",
    "    \n",
    "f.close()  # 必ずcloseする"
   ]
  },
  {
   "cell_type": "markdown",
   "metadata": {},
   "source": [
    "### with ~ as文\n",
    "上記の例では、openしたファイルを必ずcloseしなければならず、後処理を忘れる危険性がありました。  \n",
    "with文を使うと、同じ式をエレガントに書けます。"
   ]
  },
  {
   "cell_type": "code",
   "execution_count": null,
   "metadata": {},
   "outputs": [],
   "source": [
    "with open(\"data/sample.txt\", \"r\") as f:  # Closeする必要なし\n",
    "  for line in f:  \n",
    "    print(line.strip(\"\\n\"))  # 余計な改行を除去"
   ]
  },
  {
   "cell_type": "markdown",
   "metadata": {},
   "source": [
    "上記の原文は亀語 (単語の並び順が人間語と逆順) であるため、配列のアクセスを工夫して人間語に戻してあげましょう。  \n",
    "(サンプルの出典： Roald Dahl, \"Esio Trot\", Viking Press, 1990)  \n",
    "その際、次の文字列操作関数を用います：\n",
    "* str.strip(str): 文字列中からstrを取り除く\n",
    "* str.split(delimiter): delimiterで文字列を区切り、区切られた部分文字列のリストを返す\n",
    "* str.join(str_list): splitと逆の操作を行い、strを区切り文字としてstr_listの各要素を連結して返す\n",
    "* str.replace(str1, str2): 文字列中のstr1をstr2に置き換える"
   ]
  },
  {
   "cell_type": "code",
   "execution_count": null,
   "metadata": {},
   "outputs": [],
   "source": [
    "with open(\"data/sample.txt\", \"r\") as f:\n",
    "  for line in f:\n",
    "    line = line.strip(\"\\n\")\n",
    "    words = line.split(\" \")\n",
    "    words_reversed = []\n",
    "    for word in words:  # 始点・終点を変えずに逆順に進める\n",
    "      words_reversed.append(word[::-1])  # 始点・終点を変えずに逆順に進める\n",
    "      line_reversed = \" \".join(words_reversed)  # スペースで連結\n",
    "      line_reversed = line_reversed.replace(\"OISE ,TORT\", \"TORT OISE,\")  # TORT OISEが本来1語であるのを逆にしてしまったので、元に戻す\n",
    "    print(line_reversed)"
   ]
  },
  {
   "cell_type": "markdown",
   "metadata": {},
   "source": [
    "句読点が若干変ですが、これで読めました。大きくなあれ！"
   ]
  },
  {
   "cell_type": "markdown",
   "metadata": {},
   "source": [
    "## csvの読み込みとパース\n",
    "続いて、csvファイルの読み込みを行います。csv (comma-separated values)は、その名の示す通り、ファイル内の要素がカンマで区切られています。そのため、カンマ区切りの各要素を読みだしたうえで、そのデータ型に合わせて適切にパース (parse) しなければなりません。  \n",
    "文字列から数値への変換及びその逆は\n",
    "```\n",
    "float(\"3.1\") -> 3.1\n",
    "int(\"5\") -> 5\n",
    "str(5) -> \"5\"\n",
    "```\n",
    "などで行うことができます。\n",
    "\n",
    "### Irisデータセット\n",
    "今回サンプルcsvとして用いるのは、\"Iris\"と呼ばれる非常に有名なデータセットです。\n",
    "* Setosa\n",
    "* Verisicolor\n",
    "* Virginica\n",
    "\n",
    "という3種類の品種のアヤメの\n",
    "\n",
    "* がく片の長さ (1列目)\n",
    "* がく片の幅 (2列目)\n",
    "* 花弁の長さ (3列目)\n",
    "* 花弁の幅 (4列目)\n",
    "\n",
    "がcm単位で格納されています。5列目は品種名(文字列)です。  \n",
    "1列目〜4列目まではすべてfloatに変換できるので、5列目を除いたデータをnumpy配列に変換してみましょう。"
   ]
  },
  {
   "cell_type": "code",
   "execution_count": null,
   "metadata": {},
   "outputs": [],
   "source": [
    "with open(\"data/iris.csv\", \"r\") as f:\n",
    "  lines = []\n",
    "  for line in f:\n",
    "    strs = line.split(\",\")[0:4]\n",
    "    lines.append([float(x) for x in strs])  # すべての要素をfloatに変換\n",
    "        \n",
    "  data = np.array(lines)\n",
    "  print(data)"
   ]
  },
  {
   "cell_type": "markdown",
   "metadata": {},
   "source": [
    "### ファイルの書き込み\n",
    "続いて、前項でnumpy配列として読み込んだデータを再びリストに戻し、スペース区切りのファイルとして再保存しましょう。  \n",
    "処理の流れは次のようになります：\n",
    "\n",
    "1. os.makedirsとos.path.existsの組み合わせで出力先のフォルダを作成する\n",
    "2. open関数で書き込み用にファイルを開く\n",
    "3. numpy配列をtolist関数でリストに戻す\n",
    "4. 各行をスペース区切りの文字列として、ファイルに書き込む\n",
    "\n",
    "その際、使用する関数は次のとおりです。これらはPythonのデータ処理で頻出するので覚えておきましょう。\n",
    "\n",
    "* os.path.join(str1, str2, ...)：パスの連結。\"/\"の有無を吸収してパスを結合してくれるので、文字列を単純に連結するより安全\n",
    "* os.path.exists(path)：そのパスにファイルまたはディレクトリが存在するかを返す\n",
    "* os.makedirs(path)：新規ディレクトリを作成する。ただし、すでに作成済みである場合にはエラーを返すので常にその存在性を注意する必要がある\n",
    "* f.write(str)：ファイルの末尾の行に文字列を書き込む\n",
    "* tolist()：numpy配列を通常のリストに変換する"
   ]
  },
  {
   "cell_type": "code",
   "execution_count": null,
   "metadata": {
    "collapsed": true
   },
   "outputs": [],
   "source": [
    "import os\n",
    "outdir_name = \"outputs\"\n",
    "outpath = os.path.join(outdir_name, \"processed.txt\")\n",
    "\n",
    "if not os.path.exists(outdir_name):  # もしディレクトリが存在しなければ\n",
    "  os.makedirs(outdir_name)  # outdir_nameと同じ名前のディレクトリを作成する\n",
    "                       \n",
    "with open(outpath, \"w\") as f:  # 書き込み用\n",
    "  for line_data in data.tolist():\n",
    "    f.write(\" \".join([str(x) for x in line_data]) + \"\\n\")  # 末尾に改行を加える"
   ]
  },
  {
   "cell_type": "markdown",
   "metadata": {},
   "source": [
    "### *Colaboratoryからのファイルの取得\n",
    "colaboratoryからファイルを取得するには、次のコードを使用してください (Jupyter notebookでは動きません)"
   ]
  },
  {
   "cell_type": "code",
   "execution_count": null,
   "metadata": {
    "collapsed": true
   },
   "outputs": [],
   "source": [
    "# 使用するにはコメントアウト\n",
    "# from google.colab import files\n",
    "# files.download(\"outputs/processed.txt\")"
   ]
  },
  {
   "cell_type": "markdown",
   "metadata": {},
   "source": [
    "## 書いてみよう：irisデータの読み書き\n",
    "Q: Irisデータセットの品種名は文字列で格納されているが、これはラベルとしては扱いにくい形をしている。\n",
    "\n",
    "* Setosa -> 0\n",
    "* Verisicolor -> 1\n",
    "* Virginica -> 2\n",
    "\n",
    "というIDを振り、5列目を品種名ではなく品種IDに書き換えたものをoutputs/iris_with_label.csvとしてカンマ区切りで出力せよ。\n",
    "\n",
    "### ヒント：\n",
    "* str.replaceを用いる\n",
    "* 各行の文字列を置換するだけで今回の操作は実現できる (数値に変換する必要はない)"
   ]
  },
  {
   "cell_type": "code",
   "execution_count": null,
   "metadata": {
    "collapsed": true
   },
   "outputs": [],
   "source": [
    "# WRITE ME!"
   ]
  },
  {
   "cell_type": "markdown",
   "metadata": {},
   "source": [
    "### *おまけ\n",
    "余裕があれば、次の関数を用いて、irisデータの各特徴の平均や分散を求めてみましょう：\n",
    "* np.mean\n",
    "* np.var\n",
    "* np.sum\n",
    "\n",
    "各関数の解説は、numpyのリファレンスから読めます：  \n",
    "https://docs.scipy.org/doc/numpy/reference/"
   ]
  },
  {
   "cell_type": "code",
   "execution_count": null,
   "metadata": {},
   "outputs": [],
   "source": [
    "#WRITE ME!"
   ]
  },
  {
   "cell_type": "code",
   "execution_count": null,
   "metadata": {
    "collapsed": true
   },
   "outputs": [],
   "source": []
  }
 ],
 "metadata": {
  "kernelspec": {
   "display_name": "Python 3",
   "language": "python",
   "name": "python3"
  },
  "language_info": {
   "codemirror_mode": {
    "name": "ipython",
    "version": 3
   },
   "file_extension": ".py",
   "mimetype": "text/x-python",
   "name": "python",
   "nbconvert_exporter": "python",
   "pygments_lexer": "ipython3",
   "version": "3.5.2"
  }
 },
 "nbformat": 4,
 "nbformat_minor": 2
}
